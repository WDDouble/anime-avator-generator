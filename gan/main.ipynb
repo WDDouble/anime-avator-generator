{
 "cells": [
  {
   "cell_type": "code",
   "execution_count": null,
   "metadata": {},
   "outputs": [],
   "source": [
    "import numpy as np\n",
    "import torch\n",
    "import torch.nn as nn\n",
    "import torch.optim as optim\n",
    "import torchvision.transforms as transforms\n",
    "import matplotlib.pyplot as plt\n",
    "import torchvision.utils as vutils\n",
    "from torch.utils.data import DataLoader\n",
    "from torchvision.datasets import ImageFolder\n",
    "from model import Generator, Discriminator, gradient_penalty, wasserstein_loss, gradient_penalty\n",
    "from torchvision.utils import save_image\n",
    "from tqdm import tqdm\n",
    "import os\n",
    "\n"
   ]
  },
  {
   "cell_type": "code",
   "execution_count": null,
   "metadata": {},
   "outputs": [],
   "source": [
    "dataroot = \"data/\"\n",
    "save_path = \"checkpoints\" \n",
    "image_save_path = os.path.join(save_path, 'images')\n",
    "weights_save_path = os.path.join(save_path, 'weights')\n",
    "os.makedirs(image_save_path, exist_ok=True)\n",
    "os.makedirs(weights_save_path, exist_ok=True) \n",
    "image_size = 96  \n",
    "batch_size = 256\n",
    "workers = 8\n",
    "device = torch.device(\"cuda:0\" if torch.cuda.is_available() else \"cpu\")"
   ]
  },
  {
   "cell_type": "code",
   "execution_count": null,
   "metadata": {},
   "outputs": [],
   "source": [
    "transform = transforms.Compose([\n",
    "    transforms.Resize(image_size),\n",
    "    transforms.CenterCrop(image_size),\n",
    "    transforms.ToTensor(),\n",
    "    transforms.Normalize((0.5, 0.5, 0.5), (0.5, 0.5, 0.5))\n",
    "])"
   ]
  },
  {
   "cell_type": "code",
   "execution_count": null,
   "metadata": {},
   "outputs": [],
   "source": [
    "dataset = ImageFolder(root=dataroot, transform=transform)\n",
    "dataloader = DataLoader(dataset, batch_size=batch_size, shuffle=True, num_workers=workers,drop_last=True)"
   ]
  },
  {
   "cell_type": "code",
   "execution_count": null,
   "metadata": {},
   "outputs": [],
   "source": [
    "def imshow(img):\n",
    "    img = img / 2 + 0.5  # unnormalize\n",
    "    np_img = img.numpy()\n",
    "    plt.imshow(np.transpose(np_img, (1, 2, 0)))\n",
    "    plt.show()\n",
    "\n",
    "dataiter = iter(dataloader)\n",
    "images, _ = next(dataiter)\n",
    "grid_img = vutils.make_grid(images[:16], nrow=4, padding=2, normalize=True) # 调整nrow值，以适应您的显示\n",
    "imshow(grid_img)"
   ]
  },
  {
   "cell_type": "code",
   "execution_count": null,
   "metadata": {},
   "outputs": [],
   "source": [
    "G = Generator().to(device)\n",
    "D = Discriminator().to(device)"
   ]
  },
  {
   "cell_type": "code",
   "execution_count": null,
   "metadata": {},
   "outputs": [],
   "source": [
    "lr = 0.0001\n",
    "beta1 = 0.5\n",
    "beta2 = 0.9\n",
    "\n",
    "G_opt = optim.Adam(G.parameters(), lr=lr, betas=(beta1, beta2))\n",
    "D_opt = optim.Adam(D.parameters(), lr=lr, betas=(beta1, beta2))\n",
    "epochs = 200"
   ]
  },
  {
   "cell_type": "code",
   "execution_count": null,
   "metadata": {},
   "outputs": [],
   "source": [
    "epoch_count = 1\n",
    "G_losses = []\n",
    "D_losses = []\n",
    "\n",
    "for epoch in range(epochs):\n",
    "    G_loss_accum = 0.0\n",
    "    D_loss_accum = 0.0\n",
    "    num_batches = 0\n",
    "\n",
    "    for batch_index, (img, _) in enumerate(tqdm(dataloader, total=len(dataloader))):\n",
    "        noise = torch.randn(batch_size, 100, 1, 1).to(device)\n",
    "        img = img.to(device)\n",
    "\n",
    "        # Train Discriminator\n",
    "        D_opt.zero_grad()\n",
    "        true = D(img)\n",
    "        fake_img = G(noise)\n",
    "        fake = D(fake_img)\n",
    "\n",
    "        # Wasserstein losses\n",
    "        D_loss_t = wasserstein_loss(true, torch.ones_like(true))\n",
    "        D_loss_f = wasserstein_loss(fake, -torch.ones_like(fake))\n",
    "\n",
    "        # Gradient penalty\n",
    "        gp = gradient_penalty(D, img, fake_img.detach(), device)\n",
    "        D_loss = D_loss_t + D_loss_f + gp\n",
    "\n",
    "        D_loss.backward()\n",
    "        D_opt.step()\n",
    "\n",
    "        D_loss_accum += D_loss.item()\n",
    "\n",
    "        # Train Generator\n",
    "        G_opt.zero_grad()\n",
    "        fake_img = G(noise)\n",
    "        fake = D(fake_img)\n",
    "\n",
    "        # Wasserstein loss\n",
    "        G_loss = -wasserstein_loss(fake, torch.ones_like(fake))\n",
    "\n",
    "        G_loss.backward()\n",
    "        G_opt.step()\n",
    "\n",
    "        G_loss_accum += G_loss.item()\n",
    "        num_batches += 1\n",
    "\n",
    "    if epoch_count % 2 == 0:\n",
    "        with torch.no_grad():\n",
    "            fake_img = G(noise).detach().cpu()\n",
    "        img_grid = vutils.make_grid(fake_img, nrow=8, padding=2, normalize=True)\n",
    "        vutils.save_image(img_grid, f'{save_path}/fake_epoch_{epoch_count}.jpg')\n",
    "\n",
    "        torch.save(G.state_dict(), f'{weights_save_path}/G_epoch_{epoch_count}.pth')\n",
    "        torch.save(D.state_dict(), f'{weights_save_path}/D_epoch_{epoch_count}.pth')\n",
    "\n",
    "    print(f\"Epoch {epoch_count}: G_loss = {G_loss_accum / num_batches:.4f}, D_loss = {D_loss_accum / num_batches:.4f}, Wasserstein Distance = {abs(G_loss_accum + D_loss_accum) / num_batches:.4f}\")\n",
    "\n",
    "    G_losses.append(G_loss_accum / num_batches)\n",
    "    D_losses.append(D_loss_accum / num_batches)\n",
    "    epoch_count += 1\n",
    "\n",
    "# Plot the losses\n",
    "plt.plot(G_losses, label='Generator loss')\n",
    "plt.plot(D_losses, label='Discriminator loss')\n",
    "plt.legend()\n",
    "plt.xlabel('Epoch')\n"
   ]
  }
 ],
 "metadata": {
  "kernelspec": {
   "display_name": "anime-avatar-generator",
   "language": "python",
   "name": "python3"
  },
  "language_info": {
   "codemirror_mode": {
    "name": "ipython",
    "version": 3
   },
   "file_extension": ".py",
   "mimetype": "text/x-python",
   "name": "python",
   "nbconvert_exporter": "python",
   "pygments_lexer": "ipython3",
   "version": "3.9.16"
  },
  "orig_nbformat": 4
 },
 "nbformat": 4,
 "nbformat_minor": 2
}

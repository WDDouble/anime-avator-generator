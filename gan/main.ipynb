{
 "cells": [
  {
   "cell_type": "code",
   "execution_count": 7,
   "metadata": {},
   "outputs": [],
   "source": [
    "from model import *\n",
    "%matplotlib inline\n",
    "import matplotlib\n",
    "matplotlib.rcParams['animation.embed_limit'] = 256\n",
    "import shutil\n",
    "import os\n",
    "import numpy as np\n",
    "import torch\n",
    "from torch import nn, optim, autograd\n",
    "import torch.nn.init as init\n",
    "import torch.nn.functional as F\n",
    "import torchvision.utils as vutils\n",
    "import torch.utils.data as udata\n",
    "import torchvision.datasets as vdatasets\n",
    "import torchvision.transforms as transforms\n",
    "from PIL import Image\n",
    "from tqdm import tqdm\n",
    "import matplotlib.pyplot as plt\n",
    "import matplotlib.animation as animation\n",
    "\n"
   ]
  },
  {
   "cell_type": "code",
   "execution_count": 2,
   "metadata": {},
   "outputs": [],
   "source": [
    "dataroot = 'data/'\n",
    "workers = 8\n",
    "# batch size map {4:32, 8:32, 16:32, 32:16, 64:16, 128:16, 256:12, 512:3, 1024:1}\n",
    "batch_size = 32\n",
    "image_size = 4\n",
    "nc = 3\n",
    "nz = 512\n",
    "num_epochs = 300\n",
    "device = torch.device('cuda:0')"
   ]
  },
  {
   "cell_type": "code",
   "execution_count": 3,
   "metadata": {},
   "outputs": [
    {
     "data": {
      "text/plain": [
       "True"
      ]
     },
     "execution_count": 3,
     "metadata": {},
     "output_type": "execute_result"
    }
   ],
   "source": [
    "torch.cuda.is_available()"
   ]
  },
  {
   "cell_type": "code",
   "execution_count": 4,
   "metadata": {},
   "outputs": [
    {
     "data": {
      "image/png": "[encoded data removed]",
      "text/plain": [
       "<Figure size 800x800 with 1 Axes>"
      ]
     },
     "metadata": {},
     "output_type": "display_data"
    }
   ],
   "source": [
    "def modify_data(root, image_size):\n",
    "    transform = transforms.Compose([\n",
    "        transforms.Resize(image_size),\n",
    "        transforms.CenterCrop(image_size),\n",
    "        transforms.ToTensor(),\n",
    "        transforms.Normalize((0.5, 0.5, 0.5), (0.5, 0.5, 0.5))\n",
    "    ])\n",
    "    dataset = vdatasets.ImageFolder(root=root, transform=transform)\n",
    "    return dataset\n",
    "\n",
    "dataset = modify_data(dataroot, image_size)\n",
    "\n",
    "dataloader = udata.DataLoader(dataset, batch_size=batch_size, shuffle=True, num_workers=workers)\n",
    "real_batch = next(iter(dataloader))\n",
    "plt.figure(figsize=(8,8))\n",
    "plt.axis(\"off\")\n",
    "plt.title(\"Training Images\")\n",
    "plt.imshow(np.transpose(vutils.make_grid(real_batch[0].to(device)[:16], padding=1, normalize=True, nrow=4).cpu(),(1,2,0)))\n",
    "plt.show()"
   ]
  },
  {
   "cell_type": "code",
   "execution_count": 8,
   "metadata": {},
   "outputs": [],
   "source": [
    "netG = Generator(nz).to(device)\n",
    "netD = Distriminator().to(device)"
   ]
  },
  {
   "cell_type": "code",
   "execution_count": 9,
   "metadata": {},
   "outputs": [],
   "source": [
    "fixed_noise = torch.randn(64, nz, 1, 1, device=device)\n",
    "criterion = nn.BCEWithLogitsLoss()\n",
    "real_label = 1\n",
    "fake_label = 0\n",
    "lr = 0.001\n",
    "beta1 = 0.0\n",
    "g_optimizer = optim.Adam(netG.parameters(), lr=lr, betas=(beta1, 0.99))\n",
    "d_optimizer = optim.Adam(netD.parameters(), lr=lr, betas=(beta1, 0.99))"
   ]
  },
  {
   "cell_type": "code",
   "execution_count": null,
   "metadata": {},
   "outputs": [],
   "source": [
    "experiment_path = 'check_point/pggan'\n",
    "img_list = []\n",
    "G_losses = []\n",
    "D_losses = []\n",
    "D_losses_tmp = []\n",
    "Grad_penalty = []\n",
    "i = 0\n",
    "iters = 0\n",
    "total_iters = 0\n",
    "expand = 0\n",
    "n_critic = 1\n",
    "step = 0\n",
    "alpha = 0\n",
    "CLAMP = 0.01\n",
    "one = torch.FloatTensor([1]).cuda()\n",
    "mone = one * -1\n",
    "print('Training start!')\n",
    "for epoch in range(num_epochs):\n",
    "    if epoch != 0 and epoch % 50 == 0:\n",
    "        alpha = 0\n",
    "        iters = 0\n",
    "        expand += 1\n",
    "        if expand >= 3:\n",
    "            batch_size = 16\n",
    "        if expand > 5:\n",
    "            alpha = 1\n",
    "            expand = 5\n",
    "        dataset = modify_data(dataroot, image_size * 2 ** expand)\n",
    "        dataloader = udata.DataLoader(dataset, batch_size=batch_size, shuffle=True, num_workers=workers)\n",
    "    for i, data in enumerate(dataloader):\n",
    "        real_cpu = data[0].to(device)\n",
    "        b_size = real_cpu.size(0)\n",
    "        if step < n_critic:\n",
    "            netD.zero_grad()\n",
    "            for p in netD.parameters():\n",
    "                p.requires_grad = True\n",
    "#                 p.data.clamp_(-CLAMP, CLAMP)\n",
    "            output = netD(real_cpu, expand, alpha).view(-1)\n",
    "            errD_real = (output.mean() - 0.001 * (output ** 2).mean()).view(1)\n",
    "            errD_real.backward(mone)\n",
    "            noise = torch.randn(b_size, nz, 1, 1, device=device)\n",
    "            fake = netG(noise, expand, alpha)\n",
    "            output = netD(fake.detach(), expand, alpha).view(-1)\n",
    "            errD_fake = output.mean().view(1)\n",
    "            errD_fake.backward(one)\n",
    "            eps = torch.rand(b_size, 1, 1, 1, device=device)\n",
    "            x_hat = eps * real_cpu.data + (1 - eps) * fake.data\n",
    "            x_hat.requires_grad = True\n",
    "            hat_predict = netD(x_hat, expand, alpha)\n",
    "            grad_x_hat = autograd.grad(outputs=hat_predict.sum(), inputs=x_hat, create_graph=True)[0]\n",
    "            grad_penalty = ((grad_x_hat.view(grad_x_hat.size(0), -1).norm(2, dim=1) - 1) ** 2).mean()\n",
    "            grad_penalty = 10 * grad_penalty\n",
    "            grad_penalty.backward()\n",
    "            errD = errD_real - errD_fake\n",
    "            d_optimizer.step()\n",
    "            D_losses_tmp.append(errD.item())\n",
    "            step += 1\n",
    "        else:\n",
    "            for p in netD.parameters():\n",
    "                p.requires_grad = False\n",
    "            netG.zero_grad()\n",
    "            noise = torch.randn(b_size, nz, 1, 1, device=device)\n",
    "            fake = netG(noise, expand, alpha)\n",
    "            output = netD(fake, expand, alpha).view(-1)\n",
    "            errG = -output.mean().view(1)\n",
    "            errG.backward()\n",
    "            g_optimizer.step()\n",
    "            D_losses.append(np.mean(D_losses_tmp))\n",
    "            G_losses.append(errG.item())\n",
    "            D_losses_tmp = []\n",
    "            step = 0\n",
    "        if (total_iters+1) % 200 == 0:\n",
    "            print('[%d/%d][%d/%d](%d)\\tLoss_D: %.4f\\tLoss_G: %.4f\\tD(x): %.4f\\tD(G(z)): %.4f\\tGrad: %.4f'\n",
    "                  % (epoch+1, num_epochs, i+1, len(dataloader), total_iters + 1,\n",
    "                     errD.item(), errG.item(), errD_real.data.mean(), errD_fake.data.mean(), grad_penalty.data))\n",
    "        # Check how the generator is doing by saving G's output on fixed_noise\n",
    "        if (total_iters % 5000 == 0) or ((epoch == num_epochs-1) and (i == len(dataloader)-1)):\n",
    "            with torch.no_grad():\n",
    "                fake = netG(fixed_noise, expand, alpha).detach().cpu()\n",
    "            img = vutils.make_grid(fake, padding=2, normalize=True)\n",
    "            vutils.save_image(img, 'check_point/pggan/fake_image/fake_iter_{0}.jpg'.format(total_iters))\n",
    "            img_list.append(img)\n",
    "\n",
    "        iters += 1\n",
    "        total_iters += 1\n",
    "        if (epoch + 1) % 50 == 0:\n",
    "            torch.save(netG.state_dict(), '{0}/netG_epoch_{1}.pth'.format(experiment_path, epoch+1))\n",
    "            torch.save(netD.state_dict(), '{0}/netD_epoch_{1}.pth'.format(experiment_path, epoch+1))"
   ]
  }
 ],
 "metadata": {
  "kernelspec": {
   "display_name": "anime-avatar-generator",
   "language": "python",
   "name": "python3"
  },
  "language_info": {
   "codemirror_mode": {
    "name": "ipython",
    "version": 3
   },
   "file_extension": ".py",
   "mimetype": "text/x-python",
   "name": "python",
   "nbconvert_exporter": "python",
   "pygments_lexer": "ipython3",
   "version": "3.9.16"
  },
  "orig_nbformat": 4
 },
 "nbformat": 4,
 "nbformat_minor": 2
}

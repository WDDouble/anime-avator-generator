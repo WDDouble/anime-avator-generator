{
 "cells": [
  {
   "cell_type": "code",
   "execution_count": null,
   "metadata": {},
   "outputs": [],
   "source": [
    "import numpy as np\n",
    "import torch\n",
    "import torch.nn as nn\n",
    "import torch.optim as optim\n",
    "import torchvision.transforms as transforms\n",
    "import matplotlib.pyplot as plt\n",
    "import torchvision.utils as vutils\n",
    "from torch.utils.data import DataLoader\n",
    "from torchvision.datasets import ImageFolder\n",
    "from model import Generator, Discriminator\n",
    "from torchvision.utils import save_image\n",
    "from tqdm import tqdm\n",
    "import os\n",
    "\n"
   ]
  },
  {
   "cell_type": "code",
   "execution_count": null,
   "metadata": {},
   "outputs": [],
   "source": [
    "dataroot = \"data/\"\n",
    "save_path = \"checkpoints\" \n",
    "image_save_path = os.path.join(save_path, 'images')\n",
    "weights_save_path = os.path.join(save_path, 'weights')\n",
    "os.makedirs(image_save_path, exist_ok=True)\n",
    "os.makedirs(weights_save_path, exist_ok=True) \n",
    "image_size = 96  \n",
    "batch_size = 128\n",
    "workers = 8\n",
    "device = torch.device(\"cuda:0\" if torch.cuda.is_available() else \"cpu\")"
   ]
  },
  {
   "cell_type": "code",
   "execution_count": null,
   "metadata": {},
   "outputs": [],
   "source": [
    "transform = transforms.Compose([\n",
    "    transforms.Resize(image_size),\n",
    "    transforms.CenterCrop(image_size),\n",
    "    transforms.ToTensor(),\n",
    "    transforms.Normalize((0.5, 0.5, 0.5), (0.5, 0.5, 0.5))\n",
    "])"
   ]
  },
  {
   "cell_type": "code",
   "execution_count": null,
   "metadata": {},
   "outputs": [],
   "source": [
    "dataset = ImageFolder(root=dataroot, transform=transform)\n",
    "dataloader = DataLoader(dataset, batch_size=batch_size, shuffle=True, num_workers=workers,drop_last=True)"
   ]
  },
  {
   "cell_type": "code",
   "execution_count": null,
   "metadata": {},
   "outputs": [],
   "source": [
    "def imshow(img):\n",
    "    img = img / 2 + 0.5  # unnormalize\n",
    "    np_img = img.numpy()\n",
    "    plt.imshow(np.transpose(np_img, (1, 2, 0)))\n",
    "    plt.show()\n",
    "\n",
    "dataiter = iter(dataloader)\n",
    "images, _ = next(dataiter)\n",
    "grid_img = vutils.make_grid(images[:16], nrow=4, padding=2, normalize=True) # 调整nrow值，以适应您的显示\n",
    "imshow(grid_img)"
   ]
  },
  {
   "cell_type": "code",
   "execution_count": null,
   "metadata": {},
   "outputs": [],
   "source": [
    "G = Generator().to(device)\n",
    "D = Discriminator().to(device)"
   ]
  },
  {
   "cell_type": "code",
   "execution_count": null,
   "metadata": {},
   "outputs": [],
   "source": [
    "lr = 0.0002\n",
    "beta1 = 0.5\n",
    "G_opt = optim.Adam(G.parameters(), lr=lr, betas=(beta1, 0.999))\n",
    "D_opt = optim.Adam(D.parameters(), lr=lr, betas=(beta1, 0.999))\n",
    "criterion = torch.nn.BCELoss().to(device)\n",
    "noise = torch.randn(batch_size, 100, 1, 1).to(device)\n",
    "fix_noise = torch.randn(batch_size, 100, 1, 1).to(device)\n",
    "true_label = torch.ones(batch_size).to(device)\n",
    "\n",
    "false_label = torch.zeros(batch_size).to(device)\n",
    "epochs = 100"
   ]
  },
  {
   "cell_type": "code",
   "execution_count": null,
   "metadata": {},
   "outputs": [],
   "source": [
    "epoch_count = 1\n",
    "G_losses = []\n",
    "D_losses = []\n",
    "\n",
    "for epoch in range(epochs):\n",
    "    G_loss_accum = 0.0\n",
    "    D_loss_accum = 0.0\n",
    "    num_batches = 0\n",
    "\n",
    "    for batch_index, (img,_) in enumerate(tqdm(dataloader,total=len(dataloader))):\n",
    "\n",
    "        img = img.to(device)\n",
    "        # Train Discriminator\n",
    "        D_opt.zero_grad()\n",
    "\n",
    "        true = D(img)\n",
    "        fake_img = G(noise)\n",
    "        fake = D(fake_img)\n",
    "\n",
    "        D_loss_t = criterion(true, true_label)\n",
    "        D_loss_t.backward()\n",
    "\n",
    "        D_loss_f = criterion(fake, false_label)\n",
    "        D_loss_f.backward()\n",
    "        D_opt.step()\n",
    "\n",
    "        D_loss_accum += D_loss_t.item() + D_loss_f.item()\n",
    "\n",
    "        # Train Generator\n",
    "        G_opt.zero_grad()\n",
    "        fake_img = G(noise)\n",
    "        fake = D(fake_img)\n",
    "        G_loss = criterion(fake, true_label)\n",
    "        G_loss.backward()\n",
    "        G_opt.step()\n",
    "\n",
    "        G_loss_accum += G_loss.item()\n",
    "        num_batches += 1\n",
    "\n",
    "    if epoch_count % 5 == 0:\n",
    "        with torch.no_grad():\n",
    "            fake_img = G(noise).detach().cpu()\n",
    "        img_grid = vutils.make_grid(fake_img, nrow=4, padding=2, normalize=True)\n",
    "        vutils.save_image(img_grid, f'{save_path}/fake_epoch_{epoch_count}.jpg')\n",
    "\n",
    "        torch.save(G.state_dict(), f'{weights_save_path}/G_epoch_{epoch_count}.pth')\n",
    "        torch.save(D.state_dict(), f'{weights_save_path}/D_epoch_{epoch_count}.pth')\n",
    "\n",
    "    print(f\"Epoch {epoch_count}: G_loss = {G_loss_accum / num_batches:.4f}, D_loss = {D_loss_accum / num_batches:.4f}\", end='\\r')\n",
    "\n",
    "    epoch_count += 1\n",
    "\n",
    "# Plot the losses\n",
    "plt.plot(G_losses, label='Generator loss')\n",
    "plt.plot(D_losses, label='Discriminator loss')\n",
    "plt.legend()\n",
    "plt.xlabel('Epoch')\n",
    "plt.ylabel('Loss')\n",
    "plt.savefig('loss_plot.png')\n"
   ]
  }
 ],
 "metadata": {
  "kernelspec": {
   "display_name": "anime-avatar-generator",
   "language": "python",
   "name": "python3"
  },
  "language_info": {
   "codemirror_mode": {
    "name": "ipython",
    "version": 3
   },
   "file_extension": ".py",
   "mimetype": "text/x-python",
   "name": "python",
   "nbconvert_exporter": "python",
   "pygments_lexer": "ipython3",
   "version": "3.9.16"
  },
  "orig_nbformat": 4
 },
 "nbformat": 4,
 "nbformat_minor": 2
}
